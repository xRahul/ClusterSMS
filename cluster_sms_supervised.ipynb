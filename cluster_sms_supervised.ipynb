{
 "cells": [
  {
   "cell_type": "code",
   "execution_count": 198,
   "metadata": {
    "collapsed": true
   },
   "outputs": [],
   "source": [
    "import pandas as pd\n",
    "import numpy as np\n",
    "import sklearn.cluster\n",
    "import distance\n",
    "import csv\n",
    "import re\n",
    "import string\n",
    "from nltk.corpus import stopwords\n",
    "from nltk.tokenize import word_tokenize\n",
    "import nltk\n",
    "from collections import Counter\n",
    "import pprint\n",
    "from nltk.stem import WordNetLemmatizer\n",
    "from dateutil import parser as dateParser\n",
    "import time"
   ]
  },
  {
   "cell_type": "code",
   "execution_count": 199,
   "metadata": {
    "collapsed": true
   },
   "outputs": [],
   "source": [
    "pp = pprint.PrettyPrinter(indent=4)\n",
    "wnl = WordNetLemmatizer()"
   ]
  },
  {
   "cell_type": "code",
   "execution_count": 200,
   "metadata": {
    "collapsed": false
   },
   "outputs": [],
   "source": [
    "with open('AnalysisData.csv') as data_file:    \n",
    "    data = csv.DictReader(data_file, delimiter=',', quotechar='\"')\n",
    "    data.next\n",
    "raw_data = open('AnalysisData.csv', 'rb')\n",
    "reader = csv.reader(raw_data, delimiter=',', quoting=csv.QUOTE_MINIMAL)\n",
    "x = list(reader)\n",
    "for i in xrange(len(x)):\n",
    "    del x[i][4]\n",
    "    del x[i][3]\n",
    "    x[i][0] = int(time.mktime(dateParser.parse(x[i][0]).timetuple()))\n",
    "\n",
    "xx = x[:]"
   ]
  },
  {
   "cell_type": "markdown",
   "metadata": {},
   "source": [
    "http://chrisalbon.com/python/cleaning_text.html"
   ]
  },
  {
   "cell_type": "code",
   "execution_count": 201,
   "metadata": {
    "collapsed": false
   },
   "outputs": [],
   "source": [
    "for i in xrange(len(x)):\n",
    "    from_word = x[i][1]\n",
    "    \n",
    "    if '-' in from_word and from_word.index('-') == 2:\n",
    "        x[i][1] = from_word[3:].lower()"
   ]
  },
  {
   "cell_type": "code",
   "execution_count": 202,
   "metadata": {
    "collapsed": true
   },
   "outputs": [],
   "source": [
    "regex = re.compile('[%s]' % re.escape(string.punctuation))\n",
    "for i in xrange(len(x)):\n",
    "    \n",
    "    tokenized_sms = word_tokenize(x[i][2])\n",
    "    tokenized_sms_optimized = []\n",
    "    \n",
    "    for tokenized_word in tokenized_sms:\n",
    "\n",
    "        new_tokenized_word = []\n",
    "        for tokenized_character in tokenized_word: \n",
    "            new_tokenized_character = regex.sub('', tokenized_character)\n",
    "            if not new_tokenized_character == '':\n",
    "                new_tokenized_word.append(new_tokenized_character)\n",
    "        if new_tokenized_word:\n",
    "            new_tokenized_word = \"\".join(new_tokenized_word).lower()\n",
    "            if not new_tokenized_word in stopwords.words('english'):\n",
    "                tokenized_sms_optimized.append(wnl.lemmatize(wnl.lemmatize(new_tokenized_word, 'v')))\n",
    "    \n",
    "    x[i][2] = \" \".join(tokenized_sms_optimized)"
   ]
  },
  {
   "cell_type": "code",
   "execution_count": 203,
   "metadata": {
    "collapsed": false
   },
   "outputs": [],
   "source": [
    "df = pd.DataFrame(x, columns=['time', 'from', 'body'])"
   ]
  },
  {
   "cell_type": "markdown",
   "metadata": {},
   "source": [
    "http://chrisalbon.com/python/pandas_list_unique_values_in_column.html"
   ]
  },
  {
   "cell_type": "code",
   "execution_count": 204,
   "metadata": {
    "collapsed": false
   },
   "outputs": [
    {
     "name": "stdout",
     "output_type": "stream",
     "text": [
      "(6784, 3)\n",
      "Unique Timestamps: 6768\n",
      "Unique From: 835\n",
      "Unique SMS: 5598\n"
     ]
    }
   ],
   "source": [
    "pp.pprint(df.shape)\n",
    "from_unique_list = list(df.get('from').unique())\n",
    "print(\"Unique Timestamps: \" + str(len(df.get('time').unique())))\n",
    "print(\"Unique From: \" + str(len(from_unique_list)))\n",
    "print(\"Unique SMS: \" + str(len(df.get('body').unique())))"
   ]
  },
  {
   "cell_type": "code",
   "execution_count": 205,
   "metadata": {
    "collapsed": false,
    "scrolled": true
   },
   "outputs": [
    {
     "name": "stdout",
     "output_type": "stream",
     "text": [
      "Successfully created unique dictionary from FROM data of sms\n",
      "\n",
      "Count of sms from each sender\n",
      "\n",
      "Count of words in all sms\n"
     ]
    }
   ],
   "source": [
    "from_unique_dict = {i:x for i, x in enumerate(from_unique_list)}\n",
    "from_unique_dict.update({x:i for i, x in enumerate(from_unique_list)})\n",
    "\n",
    "if len(from_unique_dict) == len(from_unique_list)*2:\n",
    "    print(\"Successfully created unique dictionary from FROM data of sms\")\n",
    "else:\n",
    "    print(\"Some FROM data is equal to number assigned to it\")\n",
    "\n",
    "from_count = Counter(df.get('from'))\n",
    "print(\"\\nCount of sms from each sender\")\n",
    "#pp.pprint(from_count.most_common(n=30))\n",
    "\n",
    "sms_words_count = Counter()\n",
    "df.get('body').str.lower().str.split().apply(sms_words_count.update)\n",
    "print(\"\\nCount of words in all sms\")\n",
    "#pp.pprint(sms_words_count.most_common(n=30))"
   ]
  },
  {
   "cell_type": "code",
   "execution_count": 206,
   "metadata": {
    "collapsed": false
   },
   "outputs": [],
   "source": [
    "from difflib import SequenceMatcher\n",
    "\n",
    "def similar(a, b):\n",
    "    return SequenceMatcher(None, a, b).quick_ratio()"
   ]
  },
  {
   "cell_type": "code",
   "execution_count": 207,
   "metadata": {
    "collapsed": false
   },
   "outputs": [],
   "source": [
    "df['category'] = 0\n",
    "df['similar_to'] = -1\n",
    "df['similarity_score'] = -1.0\n",
    "category_list = ['other', 'bank', 'spam', 'ecomm', 'travel', 'personal', 'otp', 'notif', 'offer', 'alert']"
   ]
  },
  {
   "cell_type": "code",
   "execution_count": 208,
   "metadata": {
    "collapsed": false
   },
   "outputs": [],
   "source": [
    "#df.head()"
   ]
  },
  {
   "cell_type": "code",
   "execution_count": 209,
   "metadata": {
    "collapsed": true
   },
   "outputs": [],
   "source": [
    "def set_similar_sms_to_category(sms_id, category_name):\n",
    "    \n",
    "    category_id = category_list.index(category_name)\n",
    "    main_sms = df['body'][sms_id]\n",
    "    similar_sms_ids = [sms_id]\n",
    "    \n",
    "    for i in xrange(len(df.get('body'))):\n",
    "        check_sms = df['body'][i]\n",
    "        new_similarity_score = similar(main_sms, check_sms)\n",
    "        \n",
    "        if new_similarity_score > 0.8:\n",
    "            if df['similar_to'][i] == -1:\n",
    "                df.set_value(i, 'similar_to', sms_id)\n",
    "                df.set_value(i, 'category', category_id)\n",
    "                df.set_value(i, 'similarity_score', new_similarity_score)\n",
    "            else:\n",
    "                if new_similarity_score > df['similarity_score'][i]:\n",
    "                    df.set_value(i, 'similar_to', sms_id)\n",
    "                    df.set_value(i, 'category', category_id)\n",
    "                    df.set_value(i, 'similarity_score', new_similarity_score)\n"
   ]
  },
  {
   "cell_type": "code",
   "execution_count": 210,
   "metadata": {
    "collapsed": true
   },
   "outputs": [],
   "source": [
    "def get_4_random_sms():\n",
    "    return df.ix[np.random.choice(df.index, 4)]"
   ]
  },
  {
   "cell_type": "markdown",
   "metadata": {},
   "source": [
    "category_list = ['other', 'bank', 'spam', 'ecomm', 'travel', 'personal', 'otp', 'notif', 'offer', 'alert']"
   ]
  },
  {
   "cell_type": "code",
   "execution_count": 211,
   "metadata": {
    "collapsed": false,
    "scrolled": true
   },
   "outputs": [
    {
     "ename": "IndentationError",
     "evalue": "expected an indented block (<ipython-input-211-1f92157af34e>, line 6)",
     "output_type": "error",
     "traceback": [
      "\u001b[0;36m  File \u001b[0;32m\"<ipython-input-211-1f92157af34e>\"\u001b[0;36m, line \u001b[0;32m6\u001b[0m\n\u001b[0;31m    #set_similar_sms_to_category(x, category_name)\u001b[0m\n\u001b[0m                                                  ^\u001b[0m\n\u001b[0;31mIndentationError\u001b[0m\u001b[0;31m:\u001b[0m expected an indented block\n"
     ]
    }
   ],
   "source": [
    "random_sms = get_4_random_sms()\n",
    "\n",
    "for x in random_sms.index:\n",
    "    #print(xx[x][2])\n",
    "    #category_name = raw_input()\n",
    "    #set_similar_sms_to_category(x, category_name)"
   ]
  },
  {
   "cell_type": "code",
   "execution_count": 212,
   "metadata": {
    "collapsed": false
   },
   "outputs": [],
   "source": [
    "trained_list = []\n",
    "for x in df.index:\n",
    "    if df['similar_to'][x] != -1:\n",
    "        li = list(df.ix[x])\n",
    "        trained_list.append([li[1], category_list[li[3]], li[5], li[2]])\n",
    "\n",
    "dff = pd.DataFrame(trained_list)"
   ]
  }
 ],
 "metadata": {
  "anaconda-cloud": {},
  "kernelspec": {
   "display_name": "Python [conda root]",
   "language": "python",
   "name": "conda-root-py"
  },
  "language_info": {
   "codemirror_mode": {
    "name": "ipython",
    "version": 2
   },
   "file_extension": ".py",
   "mimetype": "text/x-python",
   "name": "python",
   "nbconvert_exporter": "python",
   "pygments_lexer": "ipython2",
   "version": "2.7.12"
  }
 },
 "nbformat": 4,
 "nbformat_minor": 1
}
