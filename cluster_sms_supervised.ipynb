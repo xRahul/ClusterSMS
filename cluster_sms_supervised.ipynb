{
 "cells": [
  {
   "cell_type": "code",
   "execution_count": 34,
   "metadata": {
    "collapsed": true
   },
   "outputs": [],
   "source": [
    "import pandas as pd\n",
    "import numpy as np\n",
    "import sklearn.cluster\n",
    "import distance\n",
    "import csv\n",
    "import re\n",
    "import string\n",
    "from nltk.corpus import stopwords\n",
    "from nltk.tokenize import word_tokenize\n",
    "import nltk\n",
    "from collections import Counter\n",
    "import pprint\n",
    "from nltk.stem.porter import PorterStemmer\n",
    "from nltk.stem import WordNetLemmatizer\n",
    "from gensim import corpora, models\n",
    "import gensim\n",
    "from sklearn.feature_extraction.text import TfidfVectorizer\n",
    "from sklearn.feature_extraction.text import HashingVectorizer"
   ]
  },
  {
   "cell_type": "code",
   "execution_count": 35,
   "metadata": {
    "collapsed": true
   },
   "outputs": [],
   "source": [
    "pp = pprint.PrettyPrinter(indent=4)\n",
    "p_stemmer = PorterStemmer()\n",
    "wnl = WordNetLemmatizer()"
   ]
  },
  {
   "cell_type": "code",
   "execution_count": 36,
   "metadata": {
    "collapsed": true
   },
   "outputs": [],
   "source": [
    "with open('AnalysisData.csv') as data_file:    \n",
    "    data = csv.DictReader(data_file, delimiter=',', quotechar='\"')\n",
    "    data.next\n",
    "raw_data = open('AnalysisData.csv', 'rb')\n",
    "reader = csv.reader(raw_data, delimiter=',', quoting=csv.QUOTE_MINIMAL)\n",
    "x = list(reader)\n",
    "for i in xrange(len(x)):\n",
    "    del x[i][4]\n",
    "    del x[i][3]\n",
    "    del x[i][0]"
   ]
  },
  {
   "cell_type": "markdown",
   "metadata": {},
   "source": [
    "http://chrisalbon.com/python/cleaning_text.html"
   ]
  },
  {
   "cell_type": "code",
   "execution_count": 37,
   "metadata": {
    "collapsed": true
   },
   "outputs": [],
   "source": [
    "for i in xrange(len(x)):\n",
    "    from_word = x[i][0]\n",
    "    \n",
    "    if '-' in from_word and from_word.index('-') == 2:\n",
    "        x[i][0] = from_word[3:].lower()"
   ]
  },
  {
   "cell_type": "code",
   "execution_count": 6,
   "metadata": {
    "collapsed": true
   },
   "outputs": [],
   "source": [
    "regex = re.compile('[%s]' % re.escape(string.punctuation))\n",
    "for i in xrange(len(x)):\n",
    "    \n",
    "    tokenized_sms = word_tokenize(x[i][1])\n",
    "    tokenized_sms_optimized = []\n",
    "    \n",
    "    for tokenized_word in tokenized_sms:\n",
    "\n",
    "        new_tokenized_word = []\n",
    "        for tokenized_character in tokenized_word: \n",
    "            new_tokenized_character = regex.sub('', tokenized_character)\n",
    "            if not new_tokenized_character == '':\n",
    "                new_tokenized_word.append(new_tokenized_character)\n",
    "        if new_tokenized_word:\n",
    "            new_tokenized_word = \"\".join(new_tokenized_word).lower()\n",
    "            if not new_tokenized_word in stopwords.words('english'):\n",
    "                tokenized_sms_optimized.append(wnl.lemmatize(wnl.lemmatize(new_tokenized_word, 'v')))\n",
    "    \n",
    "    x[i][1] = \" \".join(tokenized_sms_optimized)"
   ]
  },
  {
   "cell_type": "code",
   "execution_count": 38,
   "metadata": {
    "collapsed": true
   },
   "outputs": [],
   "source": [
    "data = np.array(x)\n",
    "df = pd.DataFrame(x)"
   ]
  },
  {
   "cell_type": "markdown",
   "metadata": {},
   "source": [
    "http://chrisalbon.com/python/pandas_list_unique_values_in_column.html"
   ]
  },
  {
   "cell_type": "code",
   "execution_count": 39,
   "metadata": {
    "collapsed": false
   },
   "outputs": [
    {
     "name": "stdout",
     "output_type": "stream",
     "text": [
      "(6784, 2)\n",
      "Unique From: 835\n",
      "Unique SMS: 5649\n"
     ]
    }
   ],
   "source": [
    "pp.pprint(df.shape)\n",
    "from_unique_list = list(df.get(0).unique())\n",
    "print(\"Unique From: \" + str(len(from_unique_list)))\n",
    "print(\"Unique SMS: \" + str(len(df.get(1).unique())))"
   ]
  },
  {
   "cell_type": "code",
   "execution_count": 64,
   "metadata": {
    "collapsed": false,
    "scrolled": true
   },
   "outputs": [
    {
     "name": "stdout",
     "output_type": "stream",
     "text": [
      "Successfully created unique dictionary from FROM data of sms\n",
      "\n",
      "Count of sms from each sender\n",
      "\n",
      "Count of words in all sms\n"
     ]
    }
   ],
   "source": [
    "from_unique_dict = {i:x for i, x in enumerate(from_unique_list)}\n",
    "from_unique_dict.update({x:i for i, x in enumerate(from_unique_list)})\n",
    "\n",
    "if len(from_unique_dict) == len(from_unique_list)*2:\n",
    "    print(\"Successfully created unique dictionary from FROM data of sms\")\n",
    "else:\n",
    "    print(\"Some FROM data is equal to number assigned to it\")\n",
    "\n",
    "from_count = Counter(df.get(0))\n",
    "print(\"\\nCount of sms from each sender\")\n",
    "#pp.pprint(from_count.most_common(n=30))\n",
    "\n",
    "sms_words_count = Counter()\n",
    "df.get(1).str.lower().str.split().apply(sms_words_count.update)\n",
    "print(\"\\nCount of words in all sms\")\n",
    "#pp.pprint(sms_words_count.most_common(n=30))"
   ]
  },
  {
   "cell_type": "code",
   "execution_count": 63,
   "metadata": {
    "collapsed": false
   },
   "outputs": [],
   "source": [
    "#df"
   ]
  },
  {
   "cell_type": "code",
   "execution_count": 62,
   "metadata": {
    "collapsed": false
   },
   "outputs": [],
   "source": [
    "from difflib import SequenceMatcher\n",
    "\n",
    "def similar(a, b):\n",
    "    return SequenceMatcher(None, a, b).quick_ratio()\n",
    "\n",
    "#print(df[1][6000])\n",
    "\n",
    "#for x in df.get(1):\n",
    "    #if similar(df[1][6000],x) > 0.8:\n",
    "        # print x"
   ]
  },
  {
   "cell_type": "code",
   "execution_count": 27,
   "metadata": {
    "collapsed": true
   },
   "outputs": [],
   "source": [
    "topics = ['bank', 'spam', 'ecommerce', 'transport']"
   ]
  },
  {
   "cell_type": "code",
   "execution_count": null,
   "metadata": {
    "collapsed": true
   },
   "outputs": [],
   "source": [
    "train = {\n",
    "    'bank': [13]\n",
    "}\n",
    "\n"
   ]
  }
 ],
 "metadata": {
  "kernelspec": {
   "display_name": "Python [conda root]",
   "language": "python",
   "name": "conda-root-py"
  },
  "language_info": {
   "codemirror_mode": {
    "name": "ipython",
    "version": 2
   },
   "file_extension": ".py",
   "mimetype": "text/x-python",
   "name": "python",
   "nbconvert_exporter": "python",
   "pygments_lexer": "ipython2",
   "version": "2.7.12"
  }
 },
 "nbformat": 4,
 "nbformat_minor": 1
}
