{
 "cells": [
  {
   "cell_type": "code",
   "execution_count": 70,
   "metadata": {
    "collapsed": false
   },
   "outputs": [],
   "source": [
    "import pandas as pd\n",
    "import numpy as np\n",
    "import sklearn.cluster\n",
    "import distance\n",
    "import csv\n",
    "import re\n",
    "import string\n",
    "from nltk.corpus import stopwords\n",
    "from nltk.tokenize import word_tokenize\n",
    "import nltk\n",
    "from collections import Counter\n",
    "import pprint\n",
    "from nltk.stem.porter import PorterStemmer\n",
    "from nltk.stem import WordNetLemmatizer\n",
    "from gensim import corpora, models\n",
    "import gensim\n",
    "from sklearn.feature_extraction.text import TfidfVectorizer\n",
    "from sklearn.feature_extraction.text import HashingVectorizer"
   ]
  },
  {
   "cell_type": "code",
   "execution_count": 71,
   "metadata": {
    "collapsed": true
   },
   "outputs": [],
   "source": [
    "pp = pprint.PrettyPrinter(indent=4)\n",
    "p_stemmer = PorterStemmer()\n",
    "wnl = WordNetLemmatizer()"
   ]
  },
  {
   "cell_type": "code",
   "execution_count": 72,
   "metadata": {
    "collapsed": false
   },
   "outputs": [],
   "source": [
    "with open('AnalysisData.csv') as data_file:    \n",
    "    data = csv.DictReader(data_file, delimiter=',', quotechar='\"')\n",
    "    data.next\n",
    "raw_data = open('AnalysisData.csv', 'rb')\n",
    "reader = csv.reader(raw_data, delimiter=',', quoting=csv.QUOTE_MINIMAL)\n",
    "x = list(reader)\n",
    "for i in xrange(len(x)):\n",
    "    del x[i][4]\n",
    "    del x[i][3]\n",
    "    del x[i][0]"
   ]
  },
  {
   "cell_type": "markdown",
   "metadata": {},
   "source": [
    "http://chrisalbon.com/python/cleaning_text.html"
   ]
  },
  {
   "cell_type": "code",
   "execution_count": 73,
   "metadata": {
    "collapsed": false
   },
   "outputs": [],
   "source": [
    "for i in xrange(len(x)):\n",
    "    from_word = x[i][0]\n",
    "    \n",
    "    if '-' in from_word and from_word.index('-') == 2:\n",
    "        x[i][0] = from_word[3:].lower()"
   ]
  },
  {
   "cell_type": "code",
   "execution_count": 74,
   "metadata": {
    "collapsed": false
   },
   "outputs": [],
   "source": [
    "regex = re.compile('[%s]' % re.escape(string.punctuation))\n",
    "for i in xrange(len(x)):\n",
    "    \n",
    "    tokenized_sms = word_tokenize(x[i][1])\n",
    "    tokenized_sms_optimized = []\n",
    "    \n",
    "    for tokenized_word in tokenized_sms:\n",
    "\n",
    "        new_tokenized_word = []\n",
    "        for tokenized_character in tokenized_word: \n",
    "            new_tokenized_character = regex.sub('', tokenized_character)\n",
    "            if not new_tokenized_character == '':\n",
    "                new_tokenized_word.append(new_tokenized_character)\n",
    "        if new_tokenized_word:\n",
    "            new_tokenized_word = \"\".join(new_tokenized_word).lower()\n",
    "            if not new_tokenized_word in stopwords.words('english'):\n",
    "                tokenized_sms_optimized.append(wnl.lemmatize(wnl.lemmatize(new_tokenized_word, 'v')))\n",
    "    \n",
    "    x[i][1] = \" \".join(tokenized_sms_optimized)"
   ]
  },
  {
   "cell_type": "code",
   "execution_count": 75,
   "metadata": {
    "collapsed": false
   },
   "outputs": [],
   "source": [
    "data = np.array(x)\n",
    "df = pd.DataFrame(x)"
   ]
  },
  {
   "cell_type": "markdown",
   "metadata": {},
   "source": [
    "http://chrisalbon.com/python/pandas_list_unique_values_in_column.html"
   ]
  },
  {
   "cell_type": "code",
   "execution_count": 76,
   "metadata": {
    "collapsed": false
   },
   "outputs": [
    {
     "name": "stdout",
     "output_type": "stream",
     "text": [
      "(6784, 2)\n",
      "Unique From: 835\n",
      "Unique SMS: 5598\n"
     ]
    }
   ],
   "source": [
    "pp.pprint(df.shape)\n",
    "from_unique_list = list(df.get(0).unique())\n",
    "print(\"Unique From: \" + str(len(from_unique_list)))\n",
    "print(\"Unique SMS: \" + str(len(df.get(1).unique())))"
   ]
  },
  {
   "cell_type": "code",
   "execution_count": 77,
   "metadata": {
    "collapsed": false,
    "scrolled": true
   },
   "outputs": [
    {
     "name": "stdout",
     "output_type": "stream",
     "text": [
      "Successfully created unique dictionary from FROM data of sms\n",
      "\n",
      "Count of sms from each sender\n",
      "\n",
      "Count of words in all sms\n"
     ]
    }
   ],
   "source": [
    "from_unique_dict = {i:x for i, x in enumerate(from_unique_list)}\n",
    "from_unique_dict.update({x:i for i, x in enumerate(from_unique_list)})\n",
    "\n",
    "if len(from_unique_dict) == len(from_unique_list)*2:\n",
    "    print(\"Successfully created unique dictionary from FROM data of sms\")\n",
    "else:\n",
    "    print(\"Some FROM data is equal to number assigned to it\")\n",
    "\n",
    "from_count = Counter(df.get(0))\n",
    "print(\"\\nCount of sms from each sender\")\n",
    "#pp.pprint(from_count.most_common(n=30))\n",
    "\n",
    "sms_words_count = Counter()\n",
    "df.get(1).str.lower().str.split().apply(sms_words_count.update)\n",
    "print(\"\\nCount of words in all sms\")\n",
    "#pp.pprint(sms_words_count.most_common(n=30))"
   ]
  },
  {
   "cell_type": "code",
   "execution_count": 95,
   "metadata": {
    "collapsed": false
   },
   "outputs": [
    {
     "data": {
      "text/plain": [
       "<6784x1048576 sparse matrix of type '<type 'numpy.float64'>'\n",
       "\twith 106708 stored elements in Compressed Sparse Row format>"
      ]
     },
     "execution_count": 95,
     "metadata": {},
     "output_type": "execute_result"
    }
   ],
   "source": [
    "hv = HashingVectorizer()\n",
    "hv.transform(df.get(1))\n",
    "vectorizer = TfidfVectorizer(min_df=1)\n",
    "tf_transform = vectorizer.fit_transform(df.get(1))\n",
    "tf_transform"
   ]
  },
  {
   "cell_type": "markdown",
   "metadata": {},
   "source": [
    "https://rstudio-pubs-static.s3.amazonaws.com/79360_850b2a69980c4488b1db95987a24867a.html"
   ]
  },
  {
   "cell_type": "code",
   "execution_count": 11,
   "metadata": {
    "collapsed": false
   },
   "outputs": [],
   "source": [
    "texts = df.get(1).str.split(\" \")\n",
    "dictionary = corpora.Dictionary(texts)\n",
    "corpus = [dictionary.doc2bow(text) for text in texts]"
   ]
  },
  {
   "cell_type": "code",
   "execution_count": null,
   "metadata": {
    "collapsed": true
   },
   "outputs": [],
   "source": [
    "ldamodel = gensim.models.ldamodel.LdaModel(corpus, num_topics=10, id2word = dictionary, passes=300)"
   ]
  },
  {
   "cell_type": "code",
   "execution_count": 47,
   "metadata": {
    "collapsed": false
   },
   "outputs": [],
   "source": [
    "ldamodel = gensim.models.ldamodel.LdaModel.load(\"lda_model_10_topics_300_passes_13Feb_4am\")"
   ]
  },
  {
   "cell_type": "code",
   "execution_count": 78,
   "metadata": {
    "collapsed": false
   },
   "outputs": [],
   "source": [
    "#pp.pprint(ldamodel.print_topics(num_topics=5, num_words=4))"
   ]
  },
  {
   "cell_type": "code",
   "execution_count": 116,
   "metadata": {
    "collapsed": false
   },
   "outputs": [
    {
     "name": "stdout",
     "output_type": "stream",
     "text": [
      "None\n"
     ]
    }
   ],
   "source": [
    "pp.pprint(ldamodel.save(\"lda_model_10_topics_300_passes_13Feb_4am\"))"
   ]
  },
  {
   "cell_type": "code",
   "execution_count": 48,
   "metadata": {
    "collapsed": false
   },
   "outputs": [],
   "source": [
    "from operator import itemgetter\n",
    "\n",
    "topic_distribution = []\n",
    "for x in ldamodel.get_document_topics(corpus):\n",
    "    topic_distribution.append((max(x,key=itemgetter(1))[0], max(x,key=itemgetter(1))[1]))"
   ]
  },
  {
   "cell_type": "code",
   "execution_count": 49,
   "metadata": {
    "collapsed": true
   },
   "outputs": [],
   "source": [
    "import matplotlib.pyplot as plt\n",
    "%matplotlib inline"
   ]
  },
  {
   "cell_type": "code",
   "execution_count": 50,
   "metadata": {
    "collapsed": false,
    "scrolled": true
   },
   "outputs": [
    {
     "data": {
      "image/png": "[encoded data removed]",
      "text/plain": [
       "<matplotlib.figure.Figure at 0x1231c8550>"
      ]
     },
     "metadata": {},
     "output_type": "display_data"
    }
   ],
   "source": [
    "topics = zip(*topic_distribution)[0]\n",
    "y = np.array(list(topics))\n",
    "plt.hist(y);\n",
    "plt.show()"
   ]
  },
  {
   "cell_type": "code",
   "execution_count": 69,
   "metadata": {
    "collapsed": false
   },
   "outputs": [],
   "source": [
    "topic_sms = []\n",
    "for i,x in enumerate(topic_distribution):\n",
    "    if x[0] == 10 and x[1] > 0.9:\n",
    "        topic_sms.append(i)\n",
    "for x in topic_sms:\n",
    "    pp.pprint(df.get_values()[x])"
   ]
  }
 ],
 "metadata": {
  "anaconda-cloud": {},
  "kernelspec": {
   "display_name": "Python [conda root]",
   "language": "python",
   "name": "conda-root-py"
  },
  "language_info": {
   "codemirror_mode": {
    "name": "ipython",
    "version": 2
   },
   "file_extension": ".py",
   "mimetype": "text/x-python",
   "name": "python",
   "nbconvert_exporter": "python",
   "pygments_lexer": "ipython2",
   "version": "2.7.12"
  }
 },
 "nbformat": 4,
 "nbformat_minor": 1
}
