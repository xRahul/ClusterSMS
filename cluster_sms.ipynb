{
 "cells": [
  {
   "cell_type": "code",
   "execution_count": 211,
   "metadata": {
    "collapsed": false
   },
   "outputs": [],
   "source": [
    "import pandas as pd\n",
    "import numpy as np\n",
    "import sklearn.cluster\n",
    "import distance\n",
    "import csv\n",
    "import re\n",
    "import string\n",
    "from nltk.corpus import stopwords\n",
    "from nltk.tokenize import word_tokenize\n",
    "import nltk\n",
    "from collections import Counter\n",
    "import pprint"
   ]
  },
  {
   "cell_type": "code",
   "execution_count": 212,
   "metadata": {
    "collapsed": true
   },
   "outputs": [],
   "source": [
    "pp = pprint.PrettyPrinter(indent=4)"
   ]
  },
  {
   "cell_type": "code",
   "execution_count": 213,
   "metadata": {
    "collapsed": false
   },
   "outputs": [],
   "source": [
    "with open('AnalysisData.csv') as data_file:    \n",
    "    data = csv.DictReader(data_file, delimiter=',', quotechar='\"')\n",
    "    data.next\n",
    "raw_data = open('AnalysisData.csv', 'rb')\n",
    "reader = csv.reader(raw_data, delimiter=',', quoting=csv.QUOTE_MINIMAL)\n",
    "x = list(reader)\n",
    "for i in xrange(len(x)):\n",
    "    del x[i][4]\n",
    "    del x[i][3]\n",
    "    del x[i][0]"
   ]
  },
  {
   "cell_type": "markdown",
   "metadata": {},
   "source": [
    "http://chrisalbon.com/python/cleaning_text.html"
   ]
  },
  {
   "cell_type": "code",
   "execution_count": 214,
   "metadata": {
    "collapsed": false
   },
   "outputs": [],
   "source": [
    "for i in xrange(len(x)):\n",
    "    from_word = x[i][0]\n",
    "    \n",
    "    if '-' in from_word and from_word.index('-') == 2:\n",
    "        x[i][0] = from_word[3:].lower()"
   ]
  },
  {
   "cell_type": "code",
   "execution_count": 215,
   "metadata": {
    "collapsed": false
   },
   "outputs": [],
   "source": [
    "regex = re.compile('[%s]' % re.escape(string.punctuation))\n",
    "for i in xrange(len(x)):\n",
    "    \n",
    "    tokenized_sms = word_tokenize(x[i][1])\n",
    "    tokenized_sms_optimized = []\n",
    "    \n",
    "    for tokenized_word in tokenized_sms:\n",
    "\n",
    "        new_tokenized_word = []\n",
    "        for tokenized_character in tokenized_word: \n",
    "            new_tokenized_character = regex.sub('', tokenized_character)\n",
    "            if not new_tokenized_character == '':\n",
    "                new_tokenized_word.append(new_tokenized_character)\n",
    "        if new_tokenized_word:\n",
    "            new_tokenized_word = \"\".join(new_tokenized_word).lower()\n",
    "            if not new_tokenized_word in stopwords.words('english'):\n",
    "                tokenized_sms_optimized.append(new_tokenized_word)\n",
    "    \n",
    "    x[i][1] = \" \".join(tokenized_sms_optimized)"
   ]
  },
  {
   "cell_type": "code",
   "execution_count": 216,
   "metadata": {
    "collapsed": false
   },
   "outputs": [],
   "source": [
    "data = np.array(x)\n",
    "df = pd.DataFrame(x)"
   ]
  },
  {
   "cell_type": "markdown",
   "metadata": {},
   "source": [
    "http://chrisalbon.com/python/pandas_list_unique_values_in_column.html"
   ]
  },
  {
   "cell_type": "code",
   "execution_count": 219,
   "metadata": {
    "collapsed": false
   },
   "outputs": [
    {
     "name": "stdout",
     "output_type": "stream",
     "text": [
      "(6784, 2)\n",
      "Unique From: 835\n",
      "Unique SMS: 5601\n"
     ]
    }
   ],
   "source": [
    "pp.pprint(df.shape)\n",
    "from_unique_list = list(df.get(0).unique())\n",
    "print(\"Unique From: \" + str(len(from_unique_list)))\n",
    "print(\"Unique SMS: \" + str(len(df.get(1).unique())))"
   ]
  },
  {
   "cell_type": "code",
   "execution_count": 247,
   "metadata": {
    "collapsed": false,
    "scrolled": true
   },
   "outputs": [
    {
     "name": "stdout",
     "output_type": "stream",
     "text": [
      "Successfully created unique dictionary from FROM data of sms\n",
      "\n",
      "Count of sms from each sender\n",
      "[   ('hdfcbk', 677),\n",
      "    ('ipaytm', 396),\n",
      "    ('kotakb', 329),\n",
      "    ('shopcl', 311),\n",
      "    ('axisbk', 235),\n",
      "    ('domino', 169),\n",
      "    ('myntra', 166),\n",
      "    ('fchrge', 142),\n",
      "    ('144555', 136),\n",
      "    ('mobikw', 117),\n",
      "    ('uberin', 103),\n",
      "    ('shopmt', 101),\n",
      "    ('airccm', 99),\n",
      "    ('121', 98),\n",
      "    ('020001', 87),\n",
      "    ('56060', 87),\n",
      "    ('650003', 83),\n",
      "    ('goibib', 73),\n",
      "    ('fpanda', 69),\n",
      "    ('paybak', 55),\n",
      "    ('52422999', 54),\n",
      "    ('brgkng', 54),\n",
      "    ('jioroam', 53),\n",
      "    ('ebayin', 51),\n",
      "    ('aircel', 50),\n",
      "    ('366000', 49),\n",
      "    ('koovss', 47),\n",
      "    ('amazon', 46),\n",
      "    ('jiopay', 44),\n",
      "    ('600009', 41)]\n",
      "\n",
      "Count of words in all sms\n",
      "[   ('http', 1502),\n",
      "    ('rs', 1476),\n",
      "    ('card', 1186),\n",
      "    ('get', 1185),\n",
      "    ('call', 1076),\n",
      "    ('order', 1029),\n",
      "    ('paytm', 837),\n",
      "    ('otp', 773),\n",
      "    ('dear', 759),\n",
      "    ('ending', 690),\n",
      "    ('c', 669),\n",
      "    ('4308', 663),\n",
      "    ('code', 651),\n",
      "    ('credit', 645),\n",
      "    ('ac', 630),\n",
      "    ('ur', 620),\n",
      "    ('valid', 615),\n",
      "    ('free', 600),\n",
      "    ('use', 599),\n",
      "    ('till', 596),\n",
      "    ('sms', 570),\n",
      "    ('1', 566),\n",
      "    ('wallet', 559),\n",
      "    ('mobile', 550),\n",
      "    ('app', 549),\n",
      "    ('offer', 535),\n",
      "    ('inr', 532),\n",
      "    ('cashback', 507),\n",
      "    ('bal', 502),\n",
      "    ('please', 497)]\n"
     ]
    }
   ],
   "source": [
    "from_unique_dict = {i:x for i, x in enumerate(from_unique_list)}\n",
    "from_unique_dict.update({x:i for i, x in enumerate(from_unique_list)})\n",
    "\n",
    "if len(from_unique_dict) == len(from_unique_list)*2:\n",
    "    print(\"Successfully created unique dictionary from FROM data of sms\")\n",
    "else:\n",
    "    print(\"Some FROM data is equal to number assigned to it\")\n",
    "\n",
    "from_count = Counter(df.get(0))\n",
    "print(\"\\nCount of sms from each sender\")\n",
    "pp.pprint(from_count.most_common(n=30))\n",
    "\n",
    "sms_words_count = Counter()\n",
    "df.get(1).str.lower().str.split().apply(sms_words_count.update)\n",
    "print(\"\\nCount of words in all sms\")\n",
    "pp.pprint(sms_words_count.most_common(n=30))"
   ]
  },
  {
   "cell_type": "code",
   "execution_count": 234,
   "metadata": {
    "collapsed": false
   },
   "outputs": [
    {
     "data": {
      "text/plain": [
       "<6784x1048576 sparse matrix of type '<type 'numpy.float64'>'\n",
       "\twith 108928 stored elements in Compressed Sparse Row format>"
      ]
     },
     "execution_count": 234,
     "metadata": {},
     "output_type": "execute_result"
    }
   ],
   "source": [
    "from sklearn.feature_extraction.text import HashingVectorizer\n",
    "hv = HashingVectorizer()\n",
    "hv.transform(df.get(1))"
   ]
  },
  {
   "cell_type": "code",
   "execution_count": 246,
   "metadata": {
    "collapsed": false
   },
   "outputs": [
    {
     "data": {
      "text/plain": [
       "<6784x15667 sparse matrix of type '<type 'numpy.float64'>'\n",
       "\twith 108928 stored elements in Compressed Sparse Row format>"
      ]
     },
     "execution_count": 246,
     "metadata": {},
     "output_type": "execute_result"
    }
   ],
   "source": [
    "from sklearn.feature_extraction.text import TfidfVectorizer\n",
    "vectorizer = TfidfVectorizer(min_df=1)\n",
    "tf_transform = vectorizer.fit_transform(df.get(1))\n",
    "tf_transform"
   ]
  },
  {
   "cell_type": "code",
   "execution_count": null,
   "metadata": {
    "collapsed": true
   },
   "outputs": [],
   "source": []
  }
 ],
 "metadata": {
  "anaconda-cloud": {},
  "kernelspec": {
   "display_name": "Python [conda root]",
   "language": "python",
   "name": "conda-root-py"
  },
  "language_info": {
   "codemirror_mode": {
    "name": "ipython",
    "version": 2
   },
   "file_extension": ".py",
   "mimetype": "text/x-python",
   "name": "python",
   "nbconvert_exporter": "python",
   "pygments_lexer": "ipython2",
   "version": "2.7.12"
  }
 },
 "nbformat": 4,
 "nbformat_minor": 1
}
