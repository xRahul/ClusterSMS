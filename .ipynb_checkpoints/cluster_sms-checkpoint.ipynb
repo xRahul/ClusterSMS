{
 "cells": [
  {
   "cell_type": "code",
   "execution_count": 87,
   "metadata": {
    "collapsed": false
   },
   "outputs": [],
   "source": [
    "import pandas as pd\n",
    "import numpy as np\n",
    "import sklearn.cluster\n",
    "import distance\n",
    "import csv\n",
    "import re\n",
    "import string\n",
    "from nltk.corpus import stopwords\n",
    "from nltk.tokenize import word_tokenize\n",
    "import nltk\n",
    "from collections import Counter\n",
    "import pprint\n",
    "from nltk.stem.porter import PorterStemmer\n",
    "from nltk.stem import WordNetLemmatizer\n",
    "from gensim import corpora, models\n",
    "import gensim\n",
    "from sklearn.feature_extraction.text import TfidfVectorizer\n",
    "from sklearn.feature_extraction.text import HashingVectorizer"
   ]
  },
  {
   "cell_type": "code",
   "execution_count": 88,
   "metadata": {
    "collapsed": true
   },
   "outputs": [],
   "source": [
    "pp = pprint.PrettyPrinter(indent=4)\n",
    "p_stemmer = PorterStemmer()\n",
    "wnl = WordNetLemmatizer()"
   ]
  },
  {
   "cell_type": "code",
   "execution_count": 89,
   "metadata": {
    "collapsed": false
   },
   "outputs": [],
   "source": [
    "with open('AnalysisData.csv') as data_file:    \n",
    "    data = csv.DictReader(data_file, delimiter=',', quotechar='\"')\n",
    "    data.next\n",
    "raw_data = open('AnalysisData.csv', 'rb')\n",
    "reader = csv.reader(raw_data, delimiter=',', quoting=csv.QUOTE_MINIMAL)\n",
    "x = list(reader)\n",
    "for i in xrange(len(x)):\n",
    "    del x[i][4]\n",
    "    del x[i][3]\n",
    "    del x[i][0]"
   ]
  },
  {
   "cell_type": "markdown",
   "metadata": {},
   "source": [
    "http://chrisalbon.com/python/cleaning_text.html"
   ]
  },
  {
   "cell_type": "code",
   "execution_count": 90,
   "metadata": {
    "collapsed": false
   },
   "outputs": [],
   "source": [
    "for i in xrange(len(x)):\n",
    "    from_word = x[i][0]\n",
    "    \n",
    "    if '-' in from_word and from_word.index('-') == 2:\n",
    "        x[i][0] = from_word[3:].lower()"
   ]
  },
  {
   "cell_type": "code",
   "execution_count": 91,
   "metadata": {
    "collapsed": false
   },
   "outputs": [],
   "source": [
    "regex = re.compile('[%s]' % re.escape(string.punctuation))\n",
    "for i in xrange(len(x)):\n",
    "    \n",
    "    tokenized_sms = word_tokenize(x[i][1])\n",
    "    tokenized_sms_optimized = []\n",
    "    \n",
    "    for tokenized_word in tokenized_sms:\n",
    "\n",
    "        new_tokenized_word = []\n",
    "        for tokenized_character in tokenized_word: \n",
    "            new_tokenized_character = regex.sub('', tokenized_character)\n",
    "            if not new_tokenized_character == '':\n",
    "                new_tokenized_word.append(new_tokenized_character)\n",
    "        if new_tokenized_word:\n",
    "            new_tokenized_word = \"\".join(new_tokenized_word).lower()\n",
    "            if not new_tokenized_word in stopwords.words('english'):\n",
    "                tokenized_sms_optimized.append(wnl.lemmatize(wnl.lemmatize(new_tokenized_word, 'v')))\n",
    "    \n",
    "    x[i][1] = \" \".join(tokenized_sms_optimized)"
   ]
  },
  {
   "cell_type": "code",
   "execution_count": 92,
   "metadata": {
    "collapsed": false
   },
   "outputs": [],
   "source": [
    "data = np.array(x)\n",
    "df = pd.DataFrame(x)"
   ]
  },
  {
   "cell_type": "markdown",
   "metadata": {},
   "source": [
    "http://chrisalbon.com/python/pandas_list_unique_values_in_column.html"
   ]
  },
  {
   "cell_type": "code",
   "execution_count": 93,
   "metadata": {
    "collapsed": false
   },
   "outputs": [
    {
     "name": "stdout",
     "output_type": "stream",
     "text": [
      "(6784, 2)\n",
      "Unique From: 835\n",
      "Unique SMS: 5598\n"
     ]
    }
   ],
   "source": [
    "pp.pprint(df.shape)\n",
    "from_unique_list = list(df.get(0).unique())\n",
    "print(\"Unique From: \" + str(len(from_unique_list)))\n",
    "print(\"Unique SMS: \" + str(len(df.get(1).unique())))"
   ]
  },
  {
   "cell_type": "code",
   "execution_count": 94,
   "metadata": {
    "collapsed": false,
    "scrolled": true
   },
   "outputs": [
    {
     "name": "stdout",
     "output_type": "stream",
     "text": [
      "Successfully created unique dictionary from FROM data of sms\n",
      "\n",
      "Count of sms from each sender\n",
      "[   ('hdfcbk', 677),\n",
      "    ('ipaytm', 396),\n",
      "    ('kotakb', 329),\n",
      "    ('shopcl', 311),\n",
      "    ('axisbk', 235),\n",
      "    ('domino', 169),\n",
      "    ('myntra', 166),\n",
      "    ('fchrge', 142),\n",
      "    ('144555', 136),\n",
      "    ('mobikw', 117),\n",
      "    ('uberin', 103),\n",
      "    ('shopmt', 101),\n",
      "    ('airccm', 99),\n",
      "    ('121', 98),\n",
      "    ('020001', 87),\n",
      "    ('56060', 87),\n",
      "    ('650003', 83),\n",
      "    ('goibib', 73),\n",
      "    ('fpanda', 69),\n",
      "    ('paybak', 55),\n",
      "    ('52422999', 54),\n",
      "    ('brgkng', 54),\n",
      "    ('jioroam', 53),\n",
      "    ('ebayin', 51),\n",
      "    ('aircel', 50),\n",
      "    ('366000', 49),\n",
      "    ('koovss', 47),\n",
      "    ('amazon', 46),\n",
      "    ('jiopay', 44),\n",
      "    ('600009', 41)]\n",
      "\n",
      "Count of words in all sms\n",
      "[   (u'http', 1834),\n",
      "    (u'r', 1482),\n",
      "    (u'card', 1269),\n",
      "    (u'get', 1223),\n",
      "    (u'call', 1194),\n",
      "    (u'order', 1075),\n",
      "    (u'credit', 898),\n",
      "    (u'paytm', 837),\n",
      "    (u'use', 779),\n",
      "    (u'otp', 773),\n",
      "    (u'dear', 759),\n",
      "    (u'end', 758),\n",
      "    (u'c', 690),\n",
      "    (u'offer', 676),\n",
      "    (u'4308', 663),\n",
      "    (u'code', 651),\n",
      "    (u'ac', 631),\n",
      "    (u'ur', 620),\n",
      "    (u'valid', 615),\n",
      "    (u'free', 600),\n",
      "    (u'till', 596),\n",
      "    (u'sm', 570),\n",
      "    (u'wallet', 566),\n",
      "    (u'1', 566),\n",
      "    (u'mobile', 558),\n",
      "    (u'app', 549),\n",
      "    (u'inr', 532),\n",
      "    (u'pay', 532),\n",
      "    (u'shop', 515),\n",
      "    (u'thank', 514)]\n"
     ]
    }
   ],
   "source": [
    "from_unique_dict = {i:x for i, x in enumerate(from_unique_list)}\n",
    "from_unique_dict.update({x:i for i, x in enumerate(from_unique_list)})\n",
    "\n",
    "if len(from_unique_dict) == len(from_unique_list)*2:\n",
    "    print(\"Successfully created unique dictionary from FROM data of sms\")\n",
    "else:\n",
    "    print(\"Some FROM data is equal to number assigned to it\")\n",
    "\n",
    "from_count = Counter(df.get(0))\n",
    "print(\"\\nCount of sms from each sender\")\n",
    "pp.pprint(from_count.most_common(n=30))\n",
    "\n",
    "sms_words_count = Counter()\n",
    "df.get(1).str.lower().str.split().apply(sms_words_count.update)\n",
    "print(\"\\nCount of words in all sms\")\n",
    "pp.pprint(sms_words_count.most_common(n=30))"
   ]
  },
  {
   "cell_type": "code",
   "execution_count": 95,
   "metadata": {
    "collapsed": false
   },
   "outputs": [
    {
     "data": {
      "text/plain": [
       "<6784x1048576 sparse matrix of type '<type 'numpy.float64'>'\n",
       "\twith 106708 stored elements in Compressed Sparse Row format>"
      ]
     },
     "execution_count": 95,
     "metadata": {},
     "output_type": "execute_result"
    }
   ],
   "source": [
    "hv = HashingVectorizer()\n",
    "hv.transform(df.get(1))"
   ]
  },
  {
   "cell_type": "code",
   "execution_count": 84,
   "metadata": {
    "collapsed": false,
    "scrolled": true
   },
   "outputs": [
    {
     "data": {
      "text/plain": [
       "<6784x14756 sparse matrix of type '<type 'numpy.float64'>'\n",
       "\twith 106678 stored elements in Compressed Sparse Row format>"
      ]
     },
     "execution_count": 84,
     "metadata": {},
     "output_type": "execute_result"
    }
   ],
   "source": [
    "vectorizer = TfidfVectorizer(min_df=1)\n",
    "tf_transform = vectorizer.fit_transform(df.get(1))\n",
    "tf_transform"
   ]
  },
  {
   "cell_type": "markdown",
   "metadata": {},
   "source": [
    "https://rstudio-pubs-static.s3.amazonaws.com/79360_850b2a69980c4488b1db95987a24867a.html"
   ]
  },
  {
   "cell_type": "code",
   "execution_count": 106,
   "metadata": {
    "collapsed": false
   },
   "outputs": [],
   "source": [
    "texts = df.get(1).str.split(\" \")\n",
    "dictionary = corpora.Dictionary(texts)\n",
    "corpus = [dictionary.doc2bow(text) for text in texts]\n",
    "\n",
    "ldamodel = gensim.models.ldamodel.LdaModel(corpus, num_topics=10, id2word = dictionary, passes=300)"
   ]
  },
  {
   "cell_type": "code",
   "execution_count": 115,
   "metadata": {
    "collapsed": false
   },
   "outputs": [
    {
     "name": "stdout",
     "output_type": "stream",
     "text": [
      "[   (9, u'0.029*\"get\" + 0.021*\"c\" + 0.020*\"1\" + 0.017*\"http\"'),\n",
      "    (8, u'0.037*\"ac\" + 0.028*\"dial\" + 0.022*\"debit\" + 0.019*\"mein\"'),\n",
      "    (1, u'0.044*\"call\" + 0.036*\"din\" + 0.027*\"28\" + 0.023*\"data\"'),\n",
      "    (7, u'0.050*\"paytm\" + 0.046*\"r\" + 0.044*\"wallet\" + 0.040*\"http\"'),\n",
      "    (3, u'0.054*\"otp\" + 0.026*\"share\" + 0.022*\"valid\" + 0.021*\"card\"')]\n"
     ]
    }
   ],
   "source": [
    "pp.pprint(ldamodel.print_topics(num_topics=5, num_words=4))"
   ]
  },
  {
   "cell_type": "code",
   "execution_count": 116,
   "metadata": {
    "collapsed": false
   },
   "outputs": [
    {
     "name": "stdout",
     "output_type": "stream",
     "text": [
      "None\n"
     ]
    }
   ],
   "source": [
    "pp.pprint(ldamodel.save(\"lda_model_10_topics_300_passes_13Feb_4am\"))"
   ]
  }
 ],
 "metadata": {
  "anaconda-cloud": {},
  "kernelspec": {
   "display_name": "Python [conda root]",
   "language": "python",
   "name": "conda-root-py"
  },
  "language_info": {
   "codemirror_mode": {
    "name": "ipython",
    "version": 2
   },
   "file_extension": ".py",
   "mimetype": "text/x-python",
   "name": "python",
   "nbconvert_exporter": "python",
   "pygments_lexer": "ipython2",
   "version": "2.7.12"
  }
 },
 "nbformat": 4,
 "nbformat_minor": 1
}
